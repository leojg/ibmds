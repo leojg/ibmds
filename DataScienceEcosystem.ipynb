{
 "cells": [
  {
   "cell_type": "markdown",
   "id": "0a178407-e27b-4abf-91f8-574f5d74c0f8",
   "metadata": {
    "tags": []
   },
   "source": [
    "# Data Science Tools and Ecosystem"
   ]
  },
  {
   "cell_type": "markdown",
   "id": "afce7e3d-9f8c-47ea-be9c-37f8ea4177fd",
   "metadata": {},
   "source": [
    "In this notebook, Data Science Tools and Ecosystem are summarized."
   ]
  },
  {
   "cell_type": "markdown",
   "id": "958c121e-79b6-4297-ac95-2b5a4dc16304",
   "metadata": {},
   "source": [
    "**Objectives:**\n",
    "List popular languages for Data Science:\n",
    "* python\n",
    "* r\n",
    "* java\n",
    "* julia\n",
    "* javascript"
   ]
  },
  {
   "cell_type": "markdown",
   "id": "c93bfbd2-fa89-463f-9d42-172c042b09af",
   "metadata": {},
   "source": [
    "Some of the popular languages that Data Scientists use are:\n",
    "* python\n",
    "* r\n",
    "* java"
   ]
  },
  {
   "cell_type": "markdown",
   "id": "6028a870-7280-4ae2-87e9-21be1f386880",
   "metadata": {},
   "source": [
    "Some of the commonly used libraries used by Data Scientists include:\n",
    "* pandas\n",
    "* numpy\n",
    "* scipy"
   ]
  },
  {
   "cell_type": "markdown",
   "id": "8895d34c-8f2c-4fb2-b445-056f3cd9a307",
   "metadata": {},
   "source": [
    "\n",
    "| Data Science Tools|\n",
    "| ------- |\n",
    "| Weka|\n",
    "| Hadoop|\n",
    "| TensorFlow|"
   ]
  },
  {
   "cell_type": "markdown",
   "id": "b000402f-f2df-4437-a5a7-1f78644c9f4a",
   "metadata": {},
   "source": [
    "### Below are a few examples of evaluating arithmetic expressions in Python"
   ]
  },
  {
   "cell_type": "code",
   "execution_count": 1,
   "id": "9dc38c0b-04c0-4d62-9bfb-260cef422d85",
   "metadata": {
    "tags": []
   },
   "outputs": [
    {
     "name": "stdout",
     "output_type": "stream",
     "text": [
      "3.3333333333333335\n"
     ]
    }
   ],
   "source": [
    "#This will convert 200 minutes to hours by diving by 60\n",
    "minutes = 200\n",
    "hours = 200/60\n",
    "print(hours)"
   ]
  },
  {
   "cell_type": "code",
   "execution_count": 3,
   "id": "7c7d0d67-410f-4f9e-b884-46cc2995efc2",
   "metadata": {
    "tags": []
   },
   "outputs": [
    {
     "data": {
      "text/plain": [
       "17"
      ]
     },
     "execution_count": 3,
     "metadata": {},
     "output_type": "execute_result"
    }
   ],
   "source": [
    "#This a simple arithmetic expression to mutiply then add integers\n",
    "(3*4)+5"
   ]
  },
  {
   "cell_type": "markdown",
   "id": "8aef6fb3-6717-44b7-a52d-f36b8739d27b",
   "metadata": {},
   "source": [
    "## Author: \n",
    "Leandro García"
   ]
  },
  {
   "cell_type": "code",
   "execution_count": null,
   "id": "ddd0ed2d-17af-4f76-b803-51bc49d1f3d9",
   "metadata": {},
   "outputs": [],
   "source": []
  }
 ],
 "metadata": {
  "kernelspec": {
   "display_name": "Python 3 (ipykernel)",
   "language": "python",
   "name": "python3"
  },
  "language_info": {
   "codemirror_mode": {
    "name": "ipython",
    "version": 3
   },
   "file_extension": ".py",
   "mimetype": "text/x-python",
   "name": "python",
   "nbconvert_exporter": "python",
   "pygments_lexer": "ipython3",
   "version": "3.11.0"
  }
 },
 "nbformat": 4,
 "nbformat_minor": 5
}
